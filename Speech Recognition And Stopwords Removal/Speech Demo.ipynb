{
 "cells": [
  {
   "cell_type": "code",
   "execution_count": 3,
   "metadata": {},
   "outputs": [],
   "source": [
    "import speech_recognition as sr"
   ]
  },
  {
   "cell_type": "code",
   "execution_count": 4,
   "metadata": {},
   "outputs": [
    {
     "name": "stdout",
     "output_type": "stream",
     "text": [
      "when on the Smith\n"
     ]
    }
   ],
   "source": [
    "#Speech recognition on audio file\n",
    "r = sr.Recognizer()\n",
    "audio = sr.AudioFile('OSR_us_000_0010_8k.wav') #Some file name\n",
    "with audio as source:\n",
    "    audio_data1 = r.record(source, duration=4,offset=2)  #this is an audio Data, duration=4 means it records the audio for first 4 seconds, offset=2 means we start from 2nd second.\n",
    "    audio_data2 = r.record(source, duration=4)  #this is an audio Data, duration=4 means it records the audio for next 4 seconds.\n",
    "    \n",
    "type(audio_data1)\n",
    "\n",
    "text = r.recognize_google(audio_data1)  #for this internet connection should be there\n",
    "print(text)"
   ]
  }
 ],
 "metadata": {
  "kernelspec": {
   "display_name": "Python 3",
   "language": "python",
   "name": "python3"
  },
  "language_info": {
   "codemirror_mode": {
    "name": "ipython",
    "version": 3
   },
   "file_extension": ".py",
   "mimetype": "text/x-python",
   "name": "python",
   "nbconvert_exporter": "python",
   "pygments_lexer": "ipython3",
   "version": "3.7.6"
  }
 },
 "nbformat": 4,
 "nbformat_minor": 4
}
