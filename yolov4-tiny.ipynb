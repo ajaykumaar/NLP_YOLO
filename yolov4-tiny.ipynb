{
 "cells": [
  {
   "cell_type": "code",
   "execution_count": 1,
   "metadata": {},
   "outputs": [
    {
     "name": "stderr",
     "output_type": "stream",
     "text": [
      "Cloning into 'pytorch-YOLOv4'...\n"
     ]
    }
   ],
   "source": [
    "#!git clone https://github.com/Tianxiaomo/pytorch-YOLOv4.git"
   ]
  },
  {
   "cell_type": "code",
   "execution_count": 1,
   "metadata": {},
   "outputs": [],
   "source": [
    "from tool.utils import *\n",
    "from tool.torch_utils import *\n",
    "from tool.darknet2pytorch import Darknet"
   ]
  },
  {
   "cell_type": "code",
   "execution_count": 2,
   "metadata": {},
   "outputs": [],
   "source": [
    "import cv2"
   ]
  },
  {
   "cell_type": "code",
   "execution_count": 3,
   "metadata": {},
   "outputs": [
    {
     "name": "stdout",
     "output_type": "stream",
     "text": [
      "convalution havn't activate linear\n",
      "convalution havn't activate linear\n"
     ]
    }
   ],
   "source": [
    "cfgfile = \"config/yolov4-tiny.cfg\"\n",
    "weightfile = \"yolov4-tiny.weights\"\n",
    "model = Darknet(cfgfile)\n",
    "model.load_weights(weightfile)\n",
    "model.eval()\n",
    "namesfile = 'config/coco.names'\n",
    "class_names = load_class_names(namesfile)"
   ]
  },
  {
   "cell_type": "code",
   "execution_count": 4,
   "metadata": {},
   "outputs": [
    {
     "data": {
      "text/plain": [
       "80"
      ]
     },
     "execution_count": 4,
     "metadata": {},
     "output_type": "execute_result"
    }
   ],
   "source": [
    "len(class_names)"
   ]
  },
  {
   "cell_type": "code",
   "execution_count": 7,
   "metadata": {},
   "outputs": [],
   "source": [
    "imgfile = \"ped.jpg\""
   ]
  },
  {
   "cell_type": "code",
   "execution_count": 14,
   "metadata": {},
   "outputs": [
    {
     "name": "stdout",
     "output_type": "stream",
     "text": [
      "Wall time: 269 ms\n"
     ]
    },
    {
     "data": {
      "text/plain": [
       "array([[[171, 159, 159],\n",
       "        [159, 147, 145],\n",
       "        [154, 145, 142],\n",
       "        ...,\n",
       "        [ 33,  64, 103],\n",
       "        [ 62,  93, 144],\n",
       "        [155, 188, 244]],\n",
       "\n",
       "       [[192, 187, 184],\n",
       "        [175, 170, 167],\n",
       "        [164, 159, 156],\n",
       "        ...,\n",
       "        [ 13,  44,  75],\n",
       "        [ 10,  46,  84],\n",
       "        [ 54,  91, 135]],\n",
       "\n",
       "       [[204, 208, 203],\n",
       "        [194, 195, 191],\n",
       "        [184, 183, 179],\n",
       "        ...,\n",
       "        [  4,  36,  59],\n",
       "        [  0,  36,  60],\n",
       "        [  0,  38,  63]],\n",
       "\n",
       "       ...,\n",
       "\n",
       "       [[ 82,  72,  65],\n",
       "        [ 76,  66,  59],\n",
       "        [ 65,  55,  48],\n",
       "        ...,\n",
       "        [ 24,  22,  22],\n",
       "        [ 26,  24,  24],\n",
       "        [ 28,  26,  26]],\n",
       "\n",
       "       [[106,  96,  89],\n",
       "        [ 94,  84,  77],\n",
       "        [ 74,  64,  57],\n",
       "        ...,\n",
       "        [ 26,  24,  24],\n",
       "        [ 28,  26,  26],\n",
       "        [ 30,  28,  28]],\n",
       "\n",
       "       [[ 94,  84,  77],\n",
       "        [ 88,  78,  71],\n",
       "        [ 79,  69,  62],\n",
       "        ...,\n",
       "        [ 27,  25,  25],\n",
       "        [ 29,  27,  27],\n",
       "        [ 31,  29,  29]]], dtype=uint8)"
      ]
     },
     "execution_count": 14,
     "metadata": {},
     "output_type": "execute_result"
    }
   ],
   "source": [
    "img = cv2.imread(imgfile)\n",
    "sized = cv2.resize(img, (model.width, model.height))\n",
    "sized = cv2.cvtColor(sized, cv2.COLOR_BGR2RGB)\n",
    "%time boxes = do_detect(model, sized, 0.4, 0.6)\n",
    "plot_boxes_cv2(img, boxes[0], class_names=class_names,show=True)"
   ]
  },
  {
   "cell_type": "code",
   "execution_count": 17,
   "metadata": {},
   "outputs": [
    {
     "name": "stdout",
     "output_type": "stream",
     "text": [
      "person 0.99292666\n",
      "person 0.9877415\n",
      "dog 0.8612201\n"
     ]
    }
   ],
   "source": [
    "b=boxes[0]\n",
    "for i in range(len(b)): print(class_names[b[i][6]],b[i][5])"
   ]
  },
  {
   "cell_type": "code",
   "execution_count": 11,
   "metadata": {},
   "outputs": [],
   "source": [
    "def chat():\n",
    "    labels=boxes[0]\n",
    "    lclass=[class_names[labels[l][6]] for l in range(len(labels))]\n",
    "    while(True):\n",
    "        ip=input(\"query: \")\n",
    "        if ip == \"stop\":\n",
    "            break\n",
    "        elif ip == \"objects\":\n",
    "            print(lclass)\n",
    "        elif ip== \"show all\":\n",
    "            plot_boxes_cv2(img, boxes[0], class_names=class_names,show=True)\n",
    "        else:\n",
    "            if ip in lclass:\n",
    "                num=[l for l in lclass if ip == l ]\n",
    "                print(\"True\",\"num:\",len(num))\n",
    "            else:\n",
    "                print(\"False\")\n",
    "                "
   ]
  },
  {
   "cell_type": "code",
   "execution_count": 12,
   "metadata": {},
   "outputs": [
    {
     "name": "stdout",
     "output_type": "stream",
     "text": [
      "query: objects\n",
      "['person', 'person', 'person', 'person', 'person', 'person', 'person', 'person', 'person', 'person', 'person', 'person', 'person', 'person', 'person', 'person', 'person', 'person', 'bicycle', 'car', 'car', 'car', 'backpack']\n",
      "query: person\n",
      "True num: 18\n",
      "query: car\n",
      "True num: 3\n",
      "query: dog\n",
      "False\n",
      "query: show all\n",
      "query: jk\n",
      "False\n",
      "query: stop\n"
     ]
    }
   ],
   "source": [
    "chat()"
   ]
  },
  {
   "cell_type": "code",
   "execution_count": 1,
   "metadata": {},
   "outputs": [],
   "source": [
    "import threading"
   ]
  },
  {
   "cell_type": "code",
   "execution_count": 5,
   "metadata": {},
   "outputs": [],
   "source": [
    "def add(a,b):\n",
    "    print(\"in add\")\n",
    "    return a+b\n",
    "def sub(c,d):\n",
    "    print(\"in sub\")\n",
    "    return c-d"
   ]
  },
  {
   "cell_type": "code",
   "execution_count": 6,
   "metadata": {},
   "outputs": [],
   "source": [
    "p1 = threading.Thread(target=add, args=(3,4))\n",
    "p2 = threading.Thread(target=sub, args=(6,7))"
   ]
  },
  {
   "cell_type": "code",
   "execution_count": 7,
   "metadata": {},
   "outputs": [
    {
     "name": "stdout",
     "output_type": "stream",
     "text": [
      "in addin sub\n",
      "\n"
     ]
    }
   ],
   "source": [
    "p1.start()\n",
    "p2.start()"
   ]
  },
  {
   "cell_type": "code",
   "execution_count": null,
   "metadata": {},
   "outputs": [],
   "source": []
  },
  {
   "cell_type": "markdown",
   "metadata": {},
   "source": [
    "Video cv2"
   ]
  },
  {
   "cell_type": "code",
   "execution_count": 4,
   "metadata": {},
   "outputs": [
    {
     "name": "stdout",
     "output_type": "stream",
     "text": [
      "FPS of the video is  2.44\n"
     ]
    }
   ],
   "source": [
    "from IPython import display\n",
    "vs=cv2.VideoCapture(0)\n",
    "assert vs.isOpened(), 'Cannot capture source'\n",
    "frames = 0\n",
    "start = time.time()\n",
    "while vs.isOpened():\n",
    "    ret,frame=vs.read()\n",
    "    if ret:\n",
    "        frame=cv2.flip(frame,1)\n",
    "        sized = cv2.resize(frame, (model.width, model.height))\n",
    "        sized = cv2.cvtColor(sized, cv2.COLOR_BGR2RGB)\n",
    "        boxes = do_detect(model, sized, 0.5, 0.4)\n",
    "        #chat()\n",
    "        det_img=plot_boxes_cv2(frame, boxes[0], class_names=class_names,show=False)\n",
    "        cv2.imshow(\"frame\", det_img)\n",
    "        key = cv2.waitKey(1)\n",
    "        if key & 0xFF == ord('q'):\n",
    "            break\n",
    "        frames += 1\n",
    "        print(\"FPS of the video is {:5.2f}\".format(frames / (time.time() - start)))\n",
    "        display.clear_output(wait=True)\n",
    "    else:\n",
    "        break"
   ]
  },
  {
   "cell_type": "code",
   "execution_count": null,
   "metadata": {},
   "outputs": [],
   "source": []
  },
  {
   "cell_type": "code",
   "execution_count": null,
   "metadata": {},
   "outputs": [],
   "source": []
  },
  {
   "cell_type": "code",
   "execution_count": null,
   "metadata": {},
   "outputs": [],
   "source": []
  },
  {
   "cell_type": "code",
   "execution_count": null,
   "metadata": {},
   "outputs": [],
   "source": []
  }
 ],
 "metadata": {
  "kernelspec": {
   "display_name": "Python 3",
   "language": "python",
   "name": "python3"
  },
  "language_info": {
   "codemirror_mode": {
    "name": "ipython",
    "version": 3
   },
   "file_extension": ".py",
   "mimetype": "text/x-python",
   "name": "python",
   "nbconvert_exporter": "python",
   "pygments_lexer": "ipython3",
   "version": "3.8.5"
  }
 },
 "nbformat": 4,
 "nbformat_minor": 4
}
